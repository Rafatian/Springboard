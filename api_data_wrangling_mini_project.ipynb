{
 "cells": [
  {
   "cell_type": "markdown",
   "metadata": {},
   "source": [
    "This exercise will require you to pull some data from the Qunadl API. Qaundl is currently the most widely used aggregator of financial market data."
   ]
  },
  {
   "cell_type": "markdown",
   "metadata": {},
   "source": [
    "As a first step, you will need to register a free account on the http://www.quandl.com website."
   ]
  },
  {
   "cell_type": "markdown",
   "metadata": {},
   "source": [
    "After you register, you will be provided with a unique API key, that you should store:"
   ]
  },
  {
   "cell_type": "code",
   "execution_count": 1,
   "metadata": {
    "collapsed": true
   },
   "outputs": [],
   "source": [
    "# Store the API key as a string - according to PEP8, constants are always named in all upper case\n",
    "API_KEY = 'ry-xcywD54S4GY41borP'"
   ]
  },
  {
   "cell_type": "markdown",
   "metadata": {},
   "source": [
    "Qaundl has a large number of data sources, but, unfortunately, most of them require a Premium subscription. Still, there are also a good number of free datasets."
   ]
  },
  {
   "cell_type": "markdown",
   "metadata": {},
   "source": [
    "For this mini project, we will focus on equities data from the Frankfurt Stock Exhange (FSE), which is available for free. We'll try and analyze the stock prices of a company called Carl Zeiss Meditec, which manufactures tools for eye examinations, as well as medical lasers for laser eye surgery: https://www.zeiss.com/meditec/int/home.html. The company is listed under the stock ticker AFX_X."
   ]
  },
  {
   "cell_type": "markdown",
   "metadata": {},
   "source": [
    "You can find the detailed Quandl API instructions here: https://docs.quandl.com/docs/time-series"
   ]
  },
  {
   "cell_type": "markdown",
   "metadata": {},
   "source": [
    "While there is a dedicated Python package for connecting to the Quandl API, we would prefer that you use the *requests* package, which can be easily downloaded using *pip* or *conda*. You can find the documentation for the package here: http://docs.python-requests.org/en/master/ "
   ]
  },
  {
   "cell_type": "markdown",
   "metadata": {},
   "source": [
    "Finally, apart from the *requests* package, you are encouraged to not use any third party Python packages, such as *pandas*, and instead focus on what's available in the Python Standard Library (the *collections* module might come in handy: https://pymotw.com/3/collections/).\n",
    "Also, since you won't have access to DataFrames, you are encouraged to us Python's native data structures - preferably dictionaries, though some questions can also be answered using lists.\n",
    "You can read more on these data structures here: https://docs.python.org/3/tutorial/datastructures.html"
   ]
  },
  {
   "cell_type": "markdown",
   "metadata": {},
   "source": [
    "Keep in mind that the JSON responses you will be getting from the API map almost one-to-one to Python's dictionaries. Unfortunately, they can be very nested, so make sure you read up on indexing dictionaries in the documentation provided above."
   ]
  },
  {
   "cell_type": "code",
   "execution_count": 2,
   "metadata": {
    "collapsed": true
   },
   "outputs": [],
   "source": [
    "# First, import the relevant modules\n",
    "import requests\n",
    "import json"
   ]
  },
  {
   "cell_type": "code",
   "execution_count": 3,
   "metadata": {},
   "outputs": [
    {
     "name": "stdout",
     "output_type": "stream",
     "text": [
      "{\n",
      "  \"dataset\": {\n",
      "    \"id\": 10095370,\n",
      "    \"dataset_code\": \"AFX_X\",\n",
      "    \"database_code\": \"FSE\",\n",
      "    \"name\": \"Carl Zeiss Meditec (AFX_X)\",\n",
      "    \"description\": \"Stock Prices for Carl Zeiss Meditec (2020-03-06) from the Frankfurt Stock Exchange.<br><br>Trading System: Xetra<br><br>ISIN: DE0005313704\",\n",
      "    \"refreshed_at\": \"2020-03-20T22:16:38.324Z\",\n",
      "    \"newest_available_date\": \"2020-03-20\",\n",
      "    \"oldest_available_date\": \"2000-06-07\",\n",
      "    \"column_names\": [\n",
      "      \"Date\",\n",
      "      \"Open\",\n",
      "      \"High\",\n",
      "      \"Low\",\n",
      "      \"Close\",\n",
      "      \"Change\",\n",
      "      \"Traded Volume\",\n",
      "      \"Turnover\",\n",
      "      \"Last Price of the Day\",\n",
      "      \"Daily Traded Units\",\n",
      "      \"Daily Turnover\"\n",
      "    ],\n",
      "    \"frequency\": \"daily\",\n",
      "    \"type\": \"Time Series\",\n",
      "    \"premium\": false,\n",
      "    \"limit\": null,\n",
      "    \"transform\": null,\n",
      "    \"column_index\": null,\n",
      "    \"start_date\": \"2020-03-19\",\n",
      "    \"end_date\": \"2020-03-20\",\n",
      "    \"data\": [\n",
      "      [\n",
      "        \"2020-03-20\",\n",
      "        76.65,\n",
      "        82.35,\n",
      "        75.7,\n",
      "        78.25,\n",
      "        null,\n",
      "        446534.0,\n",
      "        34997042.95,\n",
      "        null,\n",
      "        null,\n",
      "        null\n",
      "      ],\n",
      "      [\n",
      "        \"2020-03-19\",\n",
      "        69.15,\n",
      "        74.7,\n",
      "        67.7,\n",
      "        73.45,\n",
      "        null,\n",
      "        272648.0,\n",
      "        19466640.1,\n",
      "        null,\n",
      "        null,\n",
      "        null\n",
      "      ]\n",
      "    ],\n",
      "    \"collapse\": null,\n",
      "    \"order\": null,\n",
      "    \"database_id\": 6129\n",
      "  }\n",
      "}\n"
     ]
    }
   ],
   "source": [
    "# Now, call the Quandl API and pull out a small sample of the data (only one day) to get a glimpse\n",
    "# into the JSON structure that will be returned\n",
    "url = 'https://www.quandl.com/api/v3/datasets/FSE/AFX_X.json?&'\n",
    "\n",
    "params = dict(api_key = API_KEY, database_code = 'FSE', dataset_code = 'AFX_X', start_date = '2020-03-19', end_date = '2020-03-20')\n",
    "\n",
    "res = requests.get(url, params=params)\n",
    "\n",
    "json_data = res.json()\n",
    "\n",
    "json_formatted_str = json.dumps(json_data, indent=2)\n",
    "\n",
    "print(json_formatted_str)"
   ]
  },
  {
   "cell_type": "code",
   "execution_count": 4,
   "metadata": {
    "collapsed": true
   },
   "outputs": [],
   "source": [
    "# Inspect the JSON structure of the object you created, and take note of how nested it is,\n",
    "# as well as the overall structure\n"
   ]
  },
  {
   "cell_type": "markdown",
   "metadata": {},
   "source": [
    "These are your tasks for this mini project:\n",
    "\n",
    "1. Collect data from the Franfurt Stock Exchange, for the ticker AFX_X, for the whole year 2017 (keep in mind that the date format is YYYY-MM-DD).\n",
    "2. Convert the returned JSON object into a Python dictionary.\n",
    "3. Calculate what the highest and lowest opening prices were for the stock in this period.\n",
    "4. What was the largest change in any one day (based on High and Low price)?\n",
    "5. What was the largest change between any two days (based on Closing Price)?\n",
    "6. What was the average daily trading volume during this year?\n",
    "7. (Optional) What was the median trading volume during this year. (Note: you may need to implement your own function for calculating the median.)"
   ]
  },
  {
   "cell_type": "code",
   "execution_count": 5,
   "metadata": {},
   "outputs": [],
   "source": [
    "# Collecting data from FSE for AFX_X for the whole period of 2017\n",
    "\n",
    "params = dict(api_key = API_KEY, database_code = 'FSE', dataset_code = 'AFX_X', start_date = '2017-01-01', end_date = '2018-01-01')\n",
    "\n",
    "res = requests.get(url, params=params)\n",
    "\n",
    "#Converting retuned data to python dictionary\n",
    "afx_x_dict = res.json()\n",
    "\n"
   ]
  },
  {
   "cell_type": "code",
   "execution_count": 6,
   "metadata": {},
   "outputs": [],
   "source": [
    "#collecting stock data in 2017 in lists\n",
    "open_price = []\n",
    "close_price = []\n",
    "high_price = []\n",
    "low_price = []\n",
    "change_price = []\n",
    "trade_volume = []\n",
    "\n",
    "for data in afx_x_dict['dataset']['data']:\n",
    "    \n",
    "    if isinstance(data[1],float):\n",
    "        \n",
    "        open_price.append(data[1])\n",
    "        \n",
    "        close_price.append(data[4])\n",
    "        \n",
    "        low_price.append(data[3])\n",
    "        \n",
    "        high_price.append(data[2])\n",
    "        \n",
    "        trade_volume.append(data[7])\n",
    "        \n",
    "        change_price.append(data[2]-data[3])"
   ]
  },
  {
   "cell_type": "code",
   "execution_count": 7,
   "metadata": {},
   "outputs": [
    {
     "name": "stdout",
     "output_type": "stream",
     "text": [
      "The highest opeing price for the AFX_X stock in the year 2017 was 53.11 and the lowest price was 34.0\n",
      "The largest change in one day for the AFX_X stock in year 2017 was +2.81\n"
     ]
    }
   ],
   "source": [
    "#Finding the highest and lowest opening price and the highest change in one day\n",
    "\n",
    "print('The highest opeing price for the AFX_X stock in the year 2017 was {} and the lowest price was {}'\\\n",
    "      .format(max(open_price), min(open_price)))\n",
    "\n",
    "print(\"The largest change in one day for the AFX_X stock in year 2017 was {:+.2f}\".format(max(change_price)))"
   ]
  },
  {
   "cell_type": "code",
   "execution_count": 8,
   "metadata": {},
   "outputs": [
    {
     "name": "stdout",
     "output_type": "stream",
     "text": [
      "The largest change between any 2 days is for stock AFX_X is +3.15\n"
     ]
    }
   ],
   "source": [
    "#Finding the largest change in closing price between any 2 days\n",
    "\n",
    "max_change = abs(close_price[0]-close_price[2])\n",
    "\n",
    "for i in range(len(close_price)-2):\n",
    "    \n",
    "    if max_change < abs(close_price[i]-close_price[i+2]):\n",
    "        \n",
    "        max_change = abs(close_price[i]-close_price[i+2])\n",
    "\n",
    "print('The largest change between any 2 days is for stock AFX_X is {:+.2f}'.format(max_change))"
   ]
  },
  {
   "cell_type": "code",
   "execution_count": 9,
   "metadata": {},
   "outputs": [
    {
     "name": "stdout",
     "output_type": "stream",
     "text": [
      "The average trading volume for stock AFX_X in year 2017 is +3855513.04\n"
     ]
    }
   ],
   "source": [
    "#Finding the average trading volume in year 2017\n",
    "\n",
    "print('The average trading volume for stock AFX_X in year 2017 is {:+.2f}'.format(sum(trade_volume)/len(trade_volume))) "
   ]
  },
  {
   "cell_type": "code",
   "execution_count": 10,
   "metadata": {},
   "outputs": [
    {
     "name": "stdout",
     "output_type": "stream",
     "text": [
      "The median trading volume for stock AFX_X in year 2017 is +3287272.50\n"
     ]
    }
   ],
   "source": [
    "# Finding the median of trading volume in year 2017\n",
    "\n",
    "trade_volume_sorted = sorted(trade_volume)\n",
    "\n",
    "length = len(trade_volume_sorted)\n",
    "\n",
    "if length % 2 == 0:\n",
    "    \n",
    "    trade_median = (trade_volume_sorted[length//2] + trade_volume_sorted[length//2+1])/2\n",
    "else:\n",
    "    trade_median = trade_volume_sorted[length//2 + 1]\n",
    "\n",
    "print('The median trading volume for stock AFX_X in year 2017 is {:+.2f}'.format(trade_median))"
   ]
  },
  {
   "cell_type": "code",
   "execution_count": null,
   "metadata": {
    "collapsed": true
   },
   "outputs": [],
   "source": []
  }
 ],
 "metadata": {
  "kernelspec": {
   "display_name": "Python 3",
   "language": "python",
   "name": "python3"
  },
  "language_info": {
   "codemirror_mode": {
    "name": "ipython",
    "version": 3
   },
   "file_extension": ".py",
   "mimetype": "text/x-python",
   "name": "python",
   "nbconvert_exporter": "python",
   "pygments_lexer": "ipython3",
   "version": "3.6.2"
  }
 },
 "nbformat": 4,
 "nbformat_minor": 2
}
